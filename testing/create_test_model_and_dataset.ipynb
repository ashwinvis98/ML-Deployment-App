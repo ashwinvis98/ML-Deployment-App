{
 "cells": [
  {
   "cell_type": "code",
   "execution_count": 12,
   "metadata": {},
   "outputs": [],
   "source": [
    "import numpy as np\n",
    "import pandas as pd\n",
    "from sklearn.model_selection import train_test_split\n",
    "import random\n",
    "# from tensorflow.keras import Sequential\n",
    "# from tensorflow.keras.layers import Dense\n",
    "# from tensorflow.keras.optimizers import RMSprop\n",
    "# from tensorflow.keras.models import load_model\n",
    "# from tensorflow.saved_model import contains_saved_model\n",
    "# import shutil"
   ]
  },
  {
   "cell_type": "code",
   "execution_count": 6,
   "metadata": {},
   "outputs": [],
   "source": [
    "# Prepare data\n",
    "boston_data = pd.read_csv('housing.csv')\n",
    "X = boston_data.drop('medv', axis=1)\n",
    "y = boston_data.medv\n",
    "X_train, X_test, y_train, y_test = train_test_split(X, y, test_size=0.2, random_state=42)\n",
    "\n",
    "# # Define model architecture\n",
    "# model = Sequential()\n",
    "# model.add( Dense(10, activation='relu', input_shape=(X.shape[1], )) )\n",
    "# model.add( Dense(8, activation='relu') )\n",
    "# model.add( Dense(1) )\n",
    "\n",
    "# # Compile the model\n",
    "# optimizer = RMSprop(0.01)\n",
    "# model.compile(loss='mean_squared_error', optimizer=optimizer)\n",
    "\n",
    "# # Train the model\n",
    "# model.fit(X_train, y_train, epochs=10, batch_size=30, verbose=1)\n",
    "\n",
    "# # Save model to disk and delete from memory\n",
    "# model.save('simple_test_model')\n",
    "# del model\n",
    "\n",
    "# # Reload the model and make predictions\n",
    "# loaded_model = load_model('simple_test_model')\n",
    "# preds = loaded_model.predict(X_test)"
   ]
  },
  {
   "cell_type": "code",
   "execution_count": null,
   "metadata": {},
   "outputs": [],
   "source": [
    "print(contains_saved_model('simple_test_model'))"
   ]
  },
  {
   "cell_type": "code",
   "execution_count": 7,
   "metadata": {},
   "outputs": [
    {
     "name": "stdout",
     "output_type": "stream",
     "text": [
      "         crim    zn  indus  chas     nox     rm   age     dis  rad  tax  \\\n",
      "477  15.02340   0.0  18.10     0  0.6140  5.304  97.3  2.1007   24  666   \n",
      "15    0.62739   0.0   8.14     0  0.5380  5.834  56.5  4.4986    4  307   \n",
      "332   0.03466  35.0   6.06     0  0.4379  6.031  23.3  6.6407    1  304   \n",
      "423   7.05042   0.0  18.10     0  0.6140  6.103  85.1  2.0218   24  666   \n",
      "19    0.72580   0.0   8.14     0  0.5380  5.727  69.5  3.7965    4  307   \n",
      "..        ...   ...    ...   ...     ...    ...   ...     ...  ...  ...   \n",
      "106   0.17120   0.0   8.56     0  0.5200  5.836  91.9  2.2110    5  384   \n",
      "270   0.29916  20.0   6.96     0  0.4640  5.856  42.1  4.4290    3  223   \n",
      "348   0.01501  80.0   2.01     0  0.4350  6.635  29.7  8.3440    4  280   \n",
      "435  11.16040   0.0  18.10     0  0.7400  6.629  94.6  2.1247   24  666   \n",
      "102   0.22876   0.0   8.56     0  0.5200  6.405  85.4  2.7147    5  384   \n",
      "\n",
      "     ptratio       b  lstat  \n",
      "477     20.2  349.48  24.91  \n",
      "15      21.0  395.62   8.47  \n",
      "332     16.9  362.25   7.83  \n",
      "423     20.2    2.52  23.29  \n",
      "19      21.0  390.95  11.28  \n",
      "..       ...     ...    ...  \n",
      "106     20.9  395.67  18.66  \n",
      "270     18.6  388.65  13.00  \n",
      "348     17.0  390.94   5.99  \n",
      "435     20.2  109.85  23.27  \n",
      "102     20.9   70.80  10.63  \n",
      "\n",
      "[404 rows x 13 columns]\n"
     ]
    }
   ],
   "source": [
    "print(X_train)"
   ]
  },
  {
   "cell_type": "code",
   "execution_count": 8,
   "metadata": {},
   "outputs": [
    {
     "name": "stdout",
     "output_type": "stream",
     "text": [
      "train.json\n"
     ]
    }
   ],
   "source": [
    "bucket = 'gs://test-deployments/test-deployment-1/train.json'\n",
    "filename = bucket.split('/')[-1]\n",
    "print(filename)"
   ]
  },
  {
   "cell_type": "code",
   "execution_count": 18,
   "metadata": {},
   "outputs": [
    {
     "name": "stdout",
     "output_type": "stream",
     "text": [
      "14\n",
      "[11 16 12 14 16 20 12  9 13 12 14 19 16 16] [0.00603448 0.07667059 0.1473067  0.21794281 0.28857892 0.35921503\n",
      " 0.42985114 0.50048725 0.57112335 0.64175946 0.71239557 0.78303168\n",
      " 0.85366779 0.9243039  0.99494001]\n"
     ]
    }
   ],
   "source": [
    "vect = np.array([random.random() for _ in range(200)])\n",
    "n_bins = int(np.sqrt(len(vect)))\n",
    "print(n_bins)\n",
    "bin_freq, bin_edges = np.histogram(vect, bins=n_bins)\n",
    "print(bin_freq, bin_edges)"
   ]
  }
 ],
 "metadata": {
  "kernelspec": {
   "display_name": "Python 3 (ipykernel)",
   "language": "python",
   "name": "python3"
  },
  "language_info": {
   "codemirror_mode": {
    "name": "ipython",
    "version": 3
   },
   "file_extension": ".py",
   "mimetype": "text/x-python",
   "name": "python",
   "nbconvert_exporter": "python",
   "pygments_lexer": "ipython3",
   "version": "3.10.8"
  }
 },
 "nbformat": 4,
 "nbformat_minor": 4
}
